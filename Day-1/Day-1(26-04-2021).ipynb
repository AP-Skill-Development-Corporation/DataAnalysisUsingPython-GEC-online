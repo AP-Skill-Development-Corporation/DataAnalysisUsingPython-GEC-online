{
 "cells": [
  {
   "cell_type": "markdown",
   "metadata": {},
   "source": [
    "# Single\n",
    "## Double\n",
    "### Thirce\n",
    "#### Four\n",
    "##### Five\n",
    "###### Six\n",
    "\n",
    "#### Hash is used to change the size of the title.\n",
    "\n",
    "*Italic*   ---- Single star at the start and at the end that is italic<br>\n",
    "**Bold**    ---- Double stars at the start and at the end that is Bold<br>\n",
    "***Italic and Bold*** --- Three stars at the start and at the end that is Italic and bold.\n",
    "\n",
    "* The programming in jupyter notebook is named as **Literature programming**.\n",
    "* To convert the cell into code from markdown use esc+y.\n",
    "* To convert the cell into markdown from code use esc+m.\n",
    "    * To execute the cell we use shift + enter.\n",
    "    * After executing the cell if we want to create a cell below use alt+enter.\n",
    "        * These are the some important points to be remember.\n",
    "<img src = \"https://upload.wikimedia.org/wikipedia/commons/thumb/3/38/Jupyter_logo.svg/1200px-Jupyter_logo.svg.png\" width = \"200\" height = \"300\">"
   ]
  },
  {
   "cell_type": "code",
   "execution_count": null,
   "metadata": {},
   "outputs": [],
   "source": []
  },
  {
   "cell_type": "code",
   "execution_count": null,
   "metadata": {},
   "outputs": [],
   "source": []
  },
  {
   "cell_type": "code",
   "execution_count": null,
   "metadata": {},
   "outputs": [],
   "source": []
  },
  {
   "cell_type": "code",
   "execution_count": null,
   "metadata": {},
   "outputs": [],
   "source": []
  }
 ],
 "metadata": {
  "kernelspec": {
   "display_name": "Python 3",
   "language": "python",
   "name": "python3"
  },
  "language_info": {
   "codemirror_mode": {
    "name": "ipython",
    "version": 3
   },
   "file_extension": ".py",
   "mimetype": "text/x-python",
   "name": "python",
   "nbconvert_exporter": "python",
   "pygments_lexer": "ipython3",
   "version": "3.7.3"
  }
 },
 "nbformat": 4,
 "nbformat_minor": 2
}
